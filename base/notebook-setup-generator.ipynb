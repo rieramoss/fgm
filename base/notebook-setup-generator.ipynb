{
 "cells": [
  {
   "cell_type": "markdown",
   "metadata": {},
   "source": [
    "# Notebook Setup Generator"
   ]
  },
  {
   "cell_type": "markdown",
   "metadata": {},
   "source": [
    "# Description"
   ]
  },
  {
   "cell_type": "markdown",
   "metadata": {},
   "source": [
    "Read a template notebook .py file and generate a main.js setup file for use with \"Setup\" nbextension"
   ]
  },
  {
   "cell_type": "markdown",
   "metadata": {},
   "source": [
    "# Environment"
   ]
  },
  {
   "cell_type": "markdown",
   "metadata": {},
   "source": [
    "## Library Imports"
   ]
  },
  {
   "cell_type": "code",
   "execution_count": null,
   "metadata": {},
   "outputs": [],
   "source": [
    "import pandas as pd\n",
    "import numpy as np\n",
    "from pathlib import Path\n",
    "from datetime import datetime\n",
    "import os, sys\n",
    "import re\n",
    "import json\n",
    "from enum import Enum\n",
    "import unittest"
   ]
  },
  {
   "cell_type": "markdown",
   "metadata": {},
   "source": [
    "## Jupyter-specific Imports and Settings"
   ]
  },
  {
   "cell_type": "code",
   "execution_count": null,
   "metadata": {},
   "outputs": [],
   "source": [
    "# Data manipulation\n",
    "# Options for pandas\n",
    "pd.options.display.max_columns = 50\n",
    "pd.options.display.max_rows = 30\n",
    "\n",
    "# Display all cell outputs\n",
    "from IPython.core.interactiveshell import InteractiveShell\n",
    "InteractiveShell.ast_node_interactivity = 'all'\n",
    "\n",
    "from IPython import get_ipython\n",
    "ipython = get_ipython()\n",
    "\n",
    "# autoreload extension\n",
    "if 'autoreload' not in ipython.extension_manager.loaded:\n",
    "    get_ipython().magic(u'load_ext autoreload')\n",
    "\n",
    "get_ipython().magic(u'autoreload 2')"
   ]
  },
  {
   "cell_type": "markdown",
   "metadata": {},
   "source": [
    "## Local Imports"
   ]
  },
  {
   "cell_type": "code",
   "execution_count": null,
   "metadata": {},
   "outputs": [],
   "source": [
    "# import xutilities\n",
    "# from xutilities import flatten"
   ]
  },
  {
   "cell_type": "markdown",
   "metadata": {},
   "source": [
    "## File Paths"
   ]
  },
  {
   "cell_type": "code",
   "execution_count": null,
   "metadata": {},
   "outputs": [],
   "source": [
    "# Base Path\n",
    "base_path = Path.cwd()\n",
    "\n",
    "# Data paths\n",
    "data_path = base_path / 'data'\n",
    "raw_data_path = data_path / 'raw'\n",
    "interim_data_path = data_path / 'interim'\n",
    "processed_data_path = data_path / 'processed'\n",
    "external_data_path = data_path / 'external'\n",
    "\n",
    "# Reports paths\n",
    "reports_path = base_path / 'reports'\n",
    "figures_path = reports_path / 'figures'\n",
    "\n",
    "# Input paths\n",
    "\n",
    "# Outputs paths\n",
    "\n",
    "# Credentials"
   ]
  },
  {
   "cell_type": "markdown",
   "metadata": {},
   "source": [
    "## Constants and Globals"
   ]
  },
  {
   "cell_type": "code",
   "execution_count": null,
   "metadata": {},
   "outputs": [],
   "source": [
    "# Constants and Globals\n",
    "\n",
    "setup_github_url = 'https://github.com/WillKoehrsen/Data-Analysis/tree/master/setup'\n",
    "\n",
    "js_preamble = \"\"\"\n",
    "define(['base/js/namespace', 'base/js/events'], function (Jupyter, events) {\n",
    "  // Template cells including markdown and imports\n",
    "  var setUp = function () {\n",
    "\"\"\"\n",
    "# The contents of the setUp function are insert_cell_at_index calls in between these two\n",
    "\n",
    "js_postamble = \"\"\"\n",
    "    // Run all cells\n",
    "    Jupyter.notebook.execute_all_cells()\n",
    "  }\n",
    "  // Prompts user to enter name for notebook\n",
    "  var promptName = function () {\n",
    "    // Open rename notebook box if 'Untitled' in name\n",
    "    // if (Jupyter.notebook.notebook_name.search('Untitled') != -1) {\n",
    "    //  document.getElementsByClassName('filename')[0].click()\n",
    "    // }\n",
    "  }\n",
    "  // Run on start\n",
    "  function load_ipython_extension () {\n",
    "    // Add default cells for new notebook\n",
    "    if (Jupyter.notebook.get_cells().length === 1) {\n",
    "      setTimeout(setUp, 500)\n",
    "    } else {\n",
    "      promptName()\n",
    "    }\n",
    "  }\n",
    "  // Run when cell is executed\n",
    "  events.on('execute.CodeCell', function () {\n",
    "    promptName()\n",
    "  })\n",
    "  // Run when notebook is saved\n",
    "  events.on('before_save.Notebook', function () {\n",
    "    promptName()\n",
    "  })\n",
    "  return {\n",
    "    load_ipython_extension: load_ipython_extension\n",
    "  }\n",
    "})\n",
    "\"\"\"\n",
    "\n",
    "re_hdr1 = re.compile('^#!\\/usr\\/bin\\/env.*$')\n",
    "re_hdr2 = re.compile('^# coding: .*$')\n",
    "re_markdown = re.compile('^# (#.*)$')\n",
    "re_code_cell_start = re.compile('^# In\\[[0-9 ]*\\].*$')\n",
    "re_blank_line = re.compile('^\\s*$')\n",
    "\n",
    "re_non_markdown = re.compile('^[^#]+(.*)$')\n",
    "\n",
    "missing_template_py_help = \"\"\"\n",
    "If your template notebook is called \"notebook-template\" in Jupyter, then choosing\n",
    "\"Download As... Python (.py)\" will save a file in the ~/Downloads folder:\n",
    "\\t~/Downloads/notebook-template.py.html\n",
    "Modify get_notebook_template_path() if it is named differently or in a different location\n",
    "\n",
    "\"\"\"\n",
    "\n",
    "missing_nbextsetuppath_help = \"\"\"\n",
    "Copy the setup directory from \n",
    "\\t{}\n",
    "to\n",
    "\\t{}\n",
    "\"\"\"\n"
   ]
  },
  {
   "cell_type": "markdown",
   "metadata": {},
   "source": [
    "# Code"
   ]
  },
  {
   "cell_type": "code",
   "execution_count": null,
   "metadata": {},
   "outputs": [],
   "source": [
    "def emit_cell_at_index(cell_type: str, inx: int, text: str):\n",
    "    # cell_type is 'markdown' or 'code'\n",
    "    #     print(text)\n",
    "    xs_fmt = 'Jupyter.notebook.insert_cell_at_index(\\'{}\\', {}).set_text(`{}`)\\n'\n",
    "    return xs_fmt.format(cell_type, inx, text)\n",
    "\n",
    "\n",
    "def emit_cell(cell_type: str, cell_index: int, text: str):\n",
    "    xs = None\n",
    "    if True:  # state != ParseState.none:\n",
    "        # cell_type = 'markdown' if state == ParseState.markdown else 'code'\n",
    "        xs = emit_cell_at_index(cell_type, cell_index, text)\n",
    "        cell_index += 1\n",
    "    return xs, cell_index\n",
    "\n",
    "\n",
    "def trim_leading_and_trailing_lines(xs):\n",
    "    # xs = '\\n\\n\\n\\nTest String\\n\\n\\n\\n\\nSecond Line\\n\\nThird Line\\n\\n\\n\\n\\n\\n'\n",
    "    trimmed = xs.split('\\n')\n",
    "    while trimmed and not trimmed[-1]:\n",
    "        trimmed.pop()\n",
    "    while trimmed and not trimmed[0]:\n",
    "        trimmed.pop(0)\n",
    "    return '\\n'.join(trimmed)\n",
    "\n",
    "\n",
    "def ignore_line(line):\n",
    "    exact_matches = {\n",
    "        '#!/usr/bin/env python',\n",
    "        '# coding: utf-8',\n",
    "        ''\n",
    "    }\n",
    "    return line in exact_matches\n",
    "\n",
    "\n",
    "def get_notebook_template_path(notebook_template_name: str = 'notebook-template') -> Path:\n",
    "    # If your template notebook is called \"notebook-template\", then choosing\n",
    "    # \"Download As... Python (.py)\" will save a file in the ~/Downloads folder:\n",
    "    #    ~/Downloads/notebook-template.py.html\n",
    "    path_fmt = '~/Programming/IDEs/Jupyter/Templates/Base/{}.py'\n",
    "    xpath = Path(path_fmt.format(notebook_template_name))\n",
    "    return Path(os.path.expanduser(xpath))\n",
    "\n",
    "\n",
    "def jupyter_contrib_nbextensions_slist_to_dict(slist):\n",
    "    # slist is a list of lists\n",
    "    # The first element of each list looks like a dictionary key\n",
    "    # function named like this since it's only tested with the output from:\n",
    "    #    rx = !{sys.executable} -m pip show jupyter_contrib_nbextensions\n",
    "    #    jupyter_contrib_nbextensions_slist_to_dict(rx.fields())['Location']\n",
    "    rx = {}\n",
    "    for field in slist:\n",
    "        key, val = field[0][:-1], field[1:]\n",
    "        rx[key] = ' '.join(val)\n",
    "    return rx\n",
    "\n",
    "\n",
    "def get_sitepackages_path() -> Path:\n",
    "    # https://jakevdp.github.io/blog/2017/12/05/installing-python-packages-from-jupyter/\n",
    "    rx = get_ipython().getoutput('{sys.executable} -m pip show jupyter_contrib_nbextensions')\n",
    "    return Path(jupyter_contrib_nbextensions_slist_to_dict(rx.fields())['Location'])\n",
    "\n",
    "\n",
    "def get_nbextsetuppath() -> Path:\n",
    "    return get_sitepackages_path() / 'jupyter_contrib_nbextensions' / 'nbextensions' / 'setup'\n",
    "\n",
    "\n",
    "def yes_or_no(question):\n",
    "    # Adapted from https://gist.github.com/garrettdreyfus/8153571\n",
    "    reply = str(input(question + ' (y/n): ')).lower().strip()\n",
    "    return True if reply[:1] == 'y' else False\n"
   ]
  },
  {
   "cell_type": "code",
   "execution_count": null,
   "metadata": {},
   "outputs": [],
   "source": [
    "def check_prerequisites():\n",
    "    # jupyter extensions must be installed\n",
    "    #... TBD\n",
    "    \n",
    "    # the setup folder must be in the right spot\n",
    "    nbextsetuppath = get_nbextsetuppath()\n",
    "    if not nbextsetuppath.exists():\n",
    "        print(missing_nbextsetuppath_help.format(setup_github_url, nbextsetuppath))\n",
    "        return False\n",
    "\n",
    "    \n",
    "    # a file called 'notebook-template.py.html' should be in the Downloads directory\n",
    "    notebook_template_path = get_notebook_template_path()\n",
    "    if not notebook_template_path.exists():\n",
    "        print('Missing {}'.format(notebook_template_path))\n",
    "        print(missing_template_py_help)\n",
    "        return False\n",
    "    \n",
    "    return True"
   ]
  },
  {
   "cell_type": "code",
   "execution_count": null,
   "metadata": {},
   "outputs": [],
   "source": [
    "# Main code\n",
    "class ParseState(Enum):\n",
    "    none = 0\n",
    "    markdown = 1\n",
    "    codecell = 2\n",
    "\n",
    "\n",
    "def generate_setup_javascript():\n",
    "    template_path = get_notebook_template_path()\n",
    "    state, prevstate = ParseState.none, ParseState.none\n",
    "\n",
    "    cell_index = 0\n",
    "    accum = ''\n",
    "    need_emit = False\n",
    "    setup_guts = ''\n",
    "    with open(template_path) as fp:\n",
    "        for ix, line in enumerate(fp):\n",
    "            if not re.search(re_hdr1, line) and not re.search(re_hdr2, line):\n",
    "                mm = re.match(re_markdown, line)\n",
    "                if mm:\n",
    "                    state, prevstate = ParseState.markdown, state\n",
    "                    if need_emit:\n",
    "                        xs, cell_index = emit_cell(cell_type, cell_index, trim_leading_and_trailing_lines(accum))\n",
    "                        setup_guts += xs\n",
    "                        accum = ''\n",
    "                    cell_type = 'markdown'\n",
    "                    need_emit = True\n",
    "                    accum += mm.group(1)\n",
    "                elif re.search(re_code_cell_start, line):\n",
    "                    state, prevstate = ParseState.codecell, state\n",
    "                    if need_emit:\n",
    "                        xs, cell_index = emit_cell(cell_type, cell_index, trim_leading_and_trailing_lines(accum))\n",
    "                        setup_guts += xs\n",
    "                        accum = ''\n",
    "                    cell_type = 'code'\n",
    "                    need_emit = True\n",
    "                    # don't append codecellstart text to accum\n",
    "                else:\n",
    "                    accum += line\n",
    "\n",
    "        if need_emit:\n",
    "            xs, cell_index = emit_cell(cell_type, cell_index,\n",
    "                                       trim_leading_and_trailing_lines(accum + line))\n",
    "            setup_guts += xs\n",
    "            accum = ''\n",
    "\n",
    "    nbextsetuppath = get_sitepackages_path() / 'jupyter_contrib_nbextensions' / 'nbextensions' / 'setup'\n",
    "    mainjs_path = nbextsetuppath / 'main.js'\n",
    "    ok_to_write = not mainjs_path.exists() or yes_or_no('Existing file: {}\\nOverwrite?'.format(mainjs_path))\n",
    "    if ok_to_write:\n",
    "        with open(mainjs_path, 'w') as fp:\n",
    "            print(js_preamble + setup_guts + js_postamble, file=fp)\n"
   ]
  },
  {
   "cell_type": "markdown",
   "metadata": {},
   "source": [
    "# Unit Tests"
   ]
  },
  {
   "cell_type": "markdown",
   "metadata": {},
   "source": [
    "Examples of different types of lines:  \n",
    "\n",
    "Shell header\n",
    "\n",
    "```\n",
    "# !/usr/bin/env python\n",
    "# coding: utf-8\n",
    "```\n",
    "\n",
    "Markdown: \n",
    "```\n",
    "# # Title\n",
    "# # Description\n",
    "# ## Library Imports\n",
    "# # Environment\n",
    "```\n",
    "\n",
    "Start of code cell:  \n",
    "```\n",
    "# In[ ]:\n",
    "# In[12]:\n",
    "```\n",
    "Python code lines\n",
    "```\n",
    "import pandas as pd\n",
    "import numpy as np\n",
    "```"
   ]
  },
  {
   "cell_type": "code",
   "execution_count": null,
   "metadata": {},
   "outputs": [],
   "source": [
    "class Test_My_Code(unittest.TestCase):\n",
    "\n",
    "    def __init__(self, methodName='runTest'):\n",
    "        # A new TestTest instance is created for each test method\n",
    "        # Thus, __init__ is called once for each test method\n",
    "        super(Test_My_Code, self).__init__(methodName)\n",
    "        self.regex_test_mls = \"\"\"\n",
    "#!/usr/bin/env python\n",
    "# coding: utf-8\n",
    "# # Title\n",
    "# # Description\n",
    "# In[ ]:\n",
    "\n",
    "# # Environment\n",
    "# ## Library Imports\n",
    "# In[12]:\n",
    "import pandas as pd\n",
    "import numpy as np\n",
    "\"\"\"\n",
    "\n",
    "        self.regex_test_regexes = [\n",
    "            re_blank_line,\n",
    "            re_hdr1,\n",
    "            re_hdr2,\n",
    "            re_markdown,\n",
    "            re_markdown,\n",
    "            re_code_cell_start,\n",
    "            re_blank_line,\n",
    "            re_markdown,\n",
    "            re_markdown,\n",
    "            re_code_cell_start,\n",
    "            re_non_markdown,\n",
    "            re_non_markdown,\n",
    "            re_blank_line\n",
    "        ]\n",
    "\n",
    "    def is_regex_match(self, regx, test: str, expected: str):\n",
    "        mm = re.match(regx, test)\n",
    "        if not mm:\n",
    "            return False\n",
    "        last_grp = len(mm.groups())\n",
    "        return expected == mm.group(last_grp)\n",
    "\n",
    "    def test_regex(self):\n",
    "        for line, regx in zip(self.regex_test_mls.split('\\n'), self.regex_test_regexes):\n",
    "            mm = re.match(regx, line)\n",
    "            self.assertTrue(mm)\n"
   ]
  },
  {
   "cell_type": "markdown",
   "metadata": {},
   "source": [
    "## Initialization"
   ]
  },
  {
   "cell_type": "code",
   "execution_count": null,
   "metadata": {},
   "outputs": [],
   "source": [
    "# Initializations"
   ]
  },
  {
   "cell_type": "markdown",
   "metadata": {},
   "source": [
    "# Main"
   ]
  },
  {
   "cell_type": "code",
   "execution_count": null,
   "metadata": {
    "scrolled": false
   },
   "outputs": [],
   "source": [
    "if __name__ == '__main__':\n",
    "    unittest.main(argv=['first-arg-is-ignored'], exit=False)\n",
    "    \n",
    "    if check_prerequisites():\n",
    "        generate_setup_javascript()"
   ]
  },
  {
   "cell_type": "code",
   "execution_count": null,
   "metadata": {},
   "outputs": [],
   "source": []
  }
 ],
 "metadata": {
  "kernelspec": {
   "display_name": "Python 3",
   "language": "python",
   "name": "python3"
  },
  "language_info": {
   "codemirror_mode": {
    "name": "ipython",
    "version": 3
   },
   "file_extension": ".py",
   "mimetype": "text/x-python",
   "name": "python",
   "nbconvert_exporter": "python",
   "pygments_lexer": "ipython3",
   "version": "3.7.7"
  },
  "toc": {
   "base_numbering": 1,
   "nav_menu": {},
   "number_sections": true,
   "sideBar": true,
   "skip_h1_title": false,
   "title_cell": "Table of Contents",
   "title_sidebar": "Contents",
   "toc_cell": false,
   "toc_position": {},
   "toc_section_display": true,
   "toc_window_display": false
  }
 },
 "nbformat": 4,
 "nbformat_minor": 2
}
