{
 "cells": [
  {
   "cell_type": "code",
   "execution_count": null,
   "metadata": {},
   "outputs": [],
   "source": [
    "import numpy as np\n",
    "from PIL import Image"
   ]
  },
  {
   "cell_type": "code",
   "execution_count": null,
   "metadata": {},
   "outputs": [],
   "source": [
    "def make_img(size, rgba, save):\n",
    "    \n",
    "    img = Image.new('RGBA', size, rgba)\n",
    "    \n",
    "    if save is True:\n",
    "        img.save(\"frames/frame_0.png\")\n",
    "    \n",
    "    return img"
   ]
  },
  {
   "cell_type": "code",
   "execution_count": null,
   "metadata": {},
   "outputs": [],
   "source": [
    "def np_asarray(img):\n",
    "    from numpy import asarray\n",
    "    return np.copy(asarray(img))"
   ]
  },
  {
   "cell_type": "code",
   "execution_count": null,
   "metadata": {},
   "outputs": [],
   "source": [
    "def arr_properties(arr_name):\n",
    "    print(\"Número de dimensiones:\", arr_name.ndim, end=\"\")\n",
    "    print(\" / \", end=\"\")\n",
    "    print(\"Dimensiones:\", arr_name.shape, end=\"\")\n",
    "    print(\" / \", end=\"\")\n",
    "    print(\"Dtype:\", arr_name.dtype, end=\"\")\n",
    "    print(\" / \", end=\"\")\n",
    "    print(\"RGBA:\", img_arr[...,0][0][0], end=\"\")\n",
    "    print(\" - \", end=\"\")\n",
    "    print(img_arr[...,1][0][0], end=\"\")\n",
    "    print(\" - \", end=\"\")\n",
    "    print(img_arr[...,2][0][0], end=\"\")\n",
    "    print(\" - \", end=\"\")\n",
    "    print(img_arr[...,3][0][0])"
   ]
  },
  {
   "cell_type": "code",
   "execution_count": null,
   "metadata": {},
   "outputs": [],
   "source": [
    "def order_px(sizes):\n",
    "    \n",
    "    from numpy.random import default_rng\n",
    "    rng = default_rng()\n",
    "    \n",
    "    px_list = rng.choice(sizes[0], size=sizes[0], replace=False)\n",
    "    \n",
    "    return np.reshape(px_list,(sizes[1],sizes[1]))"
   ]
  },
  {
   "cell_type": "code",
   "execution_count": null,
   "metadata": {},
   "outputs": [],
   "source": [
    "def assign_px_color(px_list, number):\n",
    "    \n",
    "    position_px = np.where(px_list == number)\n",
    "    \n",
    "    for n in range(4):\n",
    "\n",
    "        rgba[n][0][position_px[0][0]][position_px[1][0]] = 0"
   ]
  },
  {
   "cell_type": "code",
   "execution_count": null,
   "metadata": {
    "scrolled": true
   },
   "outputs": [],
   "source": [
    "def change_rgba():\n",
    "    \n",
    "    img_size = ([np.size(img_arr, 1)*np.size(img_arr, 1), np.size(img_arr, 1)])\n",
    "     \n",
    "    arr_px = order_px(img_size)\n",
    "    \n",
    "    px_counter = 0\n",
    "                \n",
    "    for n in range(img_size[0]):\n",
    "        \n",
    "        px_counter += 1\n",
    "        \n",
    "        assign_px_color(arr_px,n)\n",
    "        \n",
    "        if px_counter % 18 == 0:\n",
    "        \n",
    "            newImage = Image.fromarray(img_arr)\n",
    "            newImage.save(\"frames/frame_\" + str(px_counter) + \".png\", optimize=True)"
   ]
  },
  {
   "cell_type": "code",
   "execution_count": null,
   "metadata": {},
   "outputs": [],
   "source": [
    "###################################################################################################################"
   ]
  },
  {
   "cell_type": "code",
   "execution_count": null,
   "metadata": {
    "scrolled": true
   },
   "outputs": [],
   "source": [
    "#img_arr = np_asarray(make_img((330, 330), (255, 255, 255, 255), True))\n",
    "img_arr = np_asarray(Image.open(\"frames/frame_0.png\"))"
   ]
  },
  {
   "cell_type": "code",
   "execution_count": null,
   "metadata": {
    "scrolled": true
   },
   "outputs": [],
   "source": [
    "rgba = ([[img_arr[...,0]], [img_arr[...,1]], [img_arr[...,2]], [img_arr[...,3]]])\n",
    "change_rgba()"
   ]
  },
  {
   "cell_type": "code",
   "execution_count": null,
   "metadata": {},
   "outputs": [],
   "source": []
  }
 ],
 "metadata": {
  "kernelspec": {
   "display_name": "Python 3",
   "language": "python",
   "name": "python3"
  },
  "language_info": {
   "codemirror_mode": {
    "name": "ipython",
    "version": 3
   },
   "file_extension": ".py",
   "mimetype": "text/x-python",
   "name": "python",
   "nbconvert_exporter": "python",
   "pygments_lexer": "ipython3",
   "version": "3.7.7"
  }
 },
 "nbformat": 4,
 "nbformat_minor": 4
}
